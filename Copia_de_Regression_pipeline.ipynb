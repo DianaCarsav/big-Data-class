{
  "nbformat": 4,
  "nbformat_minor": 0,
  "metadata": {
    "colab": {
      "provenance": []
    },
    "kernelspec": {
      "name": "python3",
      "display_name": "Python 3"
    },
    "language_info": {
      "name": "python"
    }
  },
  "cells": [
    {
      "cell_type": "code",
      "execution_count": null,
      "metadata": {
        "colab": {
          "base_uri": "https://localhost:8080/"
        },
        "id": "-JhE9vcxgHsB",
        "outputId": "df71aaff-445c-4eb9-903d-2a991fa9ae5d"
      },
      "outputs": [
        {
          "output_type": "stream",
          "name": "stdout",
          "text": [
            "Requirement already satisfied: pyspark in /usr/local/lib/python3.10/dist-packages (3.5.1)\n",
            "Requirement already satisfied: py4j==0.10.9.7 in /usr/local/lib/python3.10/dist-packages (from pyspark) (0.10.9.7)\n"
          ]
        }
      ],
      "source": [
        "pip install pyspark"
      ]
    },
    {
      "cell_type": "code",
      "source": [
        "from google.colab import drive\n",
        "drive.mount('/content/drive')"
      ],
      "metadata": {
        "colab": {
          "base_uri": "https://localhost:8080/"
        },
        "id": "dFKqEa24qcwF",
        "outputId": "ff7bc3e0-22e0-4d5b-db12-fdb806d50b21"
      },
      "execution_count": null,
      "outputs": [
        {
          "output_type": "stream",
          "name": "stdout",
          "text": [
            "Drive already mounted at /content/drive; to attempt to forcibly remount, call drive.mount(\"/content/drive\", force_remount=True).\n"
          ]
        }
      ]
    },
    {
      "cell_type": "code",
      "source": [
        "from pyspark.ml.classification import LogisticRegression\n",
        "\n",
        "from pyspark.ml.feature import VectorAssembler\n",
        "from pyspark.ml.feature import StandardScaler\n",
        "from pyspark.ml.feature import StringIndexer\n",
        "\n",
        "from pyspark.sql import SparkSession\n",
        "\n",
        "from pyspark.ml import Pipeline\n",
        "\n",
        "from pyspark.ml.evaluation import MulticlassClassificationEvaluator"
      ],
      "metadata": {
        "id": "ofKkfIIDg1Kt"
      },
      "execution_count": null,
      "outputs": []
    },
    {
      "cell_type": "code",
      "source": [
        "session = SparkSession.builder.appName(\"RegressionPipeline\").getOrCreate()"
      ],
      "metadata": {
        "id": "ZMs0qKH4pUyP"
      },
      "execution_count": null,
      "outputs": []
    },
    {
      "cell_type": "code",
      "source": [
        "data_path = \"/content/drive/MyDrive/Colab Notebooks/Airline_customer_satisfaction.csv\""
      ],
      "metadata": {
        "id": "AjwC8f57pZg7"
      },
      "execution_count": null,
      "outputs": []
    },
    {
      "cell_type": "code",
      "source": [
        "data = session.read.csv(data_path, header=True, inferSchema=True)\n",
        "# data.printSchema()\n",
        "data.show(5)"
      ],
      "metadata": {
        "id": "oesA49-VsHWg",
        "colab": {
          "base_uri": "https://localhost:8080/"
        },
        "outputId": "4d0819ba-3282-44f5-e657-bf5025bc9af7"
      },
      "execution_count": null,
      "outputs": [
        {
          "output_type": "stream",
          "name": "stdout",
          "text": [
            "+------------+--------------+---+---------------+--------+---------------+------------+---------------------------------+--------------+-------------+---------------------+----------------------+--------------+----------------------+----------------+----------------+----------------+---------------+-----------+---------------+--------------------------+------------------------+\n",
            "|satisfaction| Customer Type|Age| Type of Travel|   Class|Flight Distance|Seat comfort|Departure/Arrival time convenient|Food and drink|Gate location|Inflight wifi service|Inflight entertainment|Online support|Ease of Online booking|On-board service|Leg room service|Baggage handling|Checkin service|Cleanliness|Online boarding|Departure Delay in Minutes|Arrival Delay in Minutes|\n",
            "+------------+--------------+---+---------------+--------+---------------+------------+---------------------------------+--------------+-------------+---------------------+----------------------+--------------+----------------------+----------------+----------------+----------------+---------------+-----------+---------------+--------------------------+------------------------+\n",
            "|   satisfied|Loyal Customer| 65|Personal Travel|     Eco|            265|           0|                                0|             0|            2|                    2|                     4|             2|                     3|               3|               0|               3|              5|          3|              2|                         0|                     0.0|\n",
            "|   satisfied|Loyal Customer| 47|Personal Travel|Business|           2464|           0|                                0|             0|            3|                    0|                     2|             2|                     3|               4|               4|               4|              2|          3|              2|                       310|                   305.0|\n",
            "|   satisfied|Loyal Customer| 15|Personal Travel|     Eco|           2138|           0|                                0|             0|            3|                    2|                     0|             2|                     2|               3|               3|               4|              4|          4|              2|                         0|                     0.0|\n",
            "|   satisfied|Loyal Customer| 60|Personal Travel|     Eco|            623|           0|                                0|             0|            3|                    3|                     4|             3|                     1|               1|               0|               1|              4|          1|              3|                         0|                     0.0|\n",
            "|   satisfied|Loyal Customer| 70|Personal Travel|     Eco|            354|           0|                                0|             0|            3|                    4|                     3|             4|                     2|               2|               0|               2|              4|          2|              5|                         0|                     0.0|\n",
            "+------------+--------------+---+---------------+--------+---------------+------------+---------------------------------+--------------+-------------+---------------------+----------------------+--------------+----------------------+----------------+----------------+----------------+---------------+-----------+---------------+--------------------------+------------------------+\n",
            "only showing top 5 rows\n",
            "\n"
          ]
        }
      ]
    },
    {
      "cell_type": "code",
      "source": [
        "data = data.na.drop()"
      ],
      "metadata": {
        "id": "t9GKre8eZiLn"
      },
      "execution_count": null,
      "outputs": []
    },
    {
      "cell_type": "code",
      "source": [
        "from pyspark.sql.functions import when, count, isnull\n",
        "cols = data.columns\n",
        "data.select([count(when(isnull(c), c)).alias(c) for c in cols]).show()"
      ],
      "metadata": {
        "colab": {
          "base_uri": "https://localhost:8080/"
        },
        "id": "RtTc-QBOVuT8",
        "outputId": "76b7ae5f-8be5-4a44-ca68-7cc009c4ab83"
      },
      "execution_count": null,
      "outputs": [
        {
          "output_type": "stream",
          "name": "stdout",
          "text": [
            "+------------+-------------+---+--------------+-----+---------------+------------+---------------------------------+--------------+-------------+---------------------+----------------------+--------------+----------------------+----------------+----------------+----------------+---------------+-----------+---------------+--------------------------+------------------------+\n",
            "|satisfaction|Customer Type|Age|Type of Travel|Class|Flight Distance|Seat comfort|Departure/Arrival time convenient|Food and drink|Gate location|Inflight wifi service|Inflight entertainment|Online support|Ease of Online booking|On-board service|Leg room service|Baggage handling|Checkin service|Cleanliness|Online boarding|Departure Delay in Minutes|Arrival Delay in Minutes|\n",
            "+------------+-------------+---+--------------+-----+---------------+------------+---------------------------------+--------------+-------------+---------------------+----------------------+--------------+----------------------+----------------+----------------+----------------+---------------+-----------+---------------+--------------------------+------------------------+\n",
            "|           0|            0|  0|             0|    0|              0|           0|                                0|             0|            0|                    0|                     0|             0|                     0|               0|               0|               0|              0|          0|              0|                         0|                       0|\n",
            "+------------+-------------+---+--------------+-----+---------------+------------+---------------------------------+--------------+-------------+---------------------+----------------------+--------------+----------------------+----------------+----------------+----------------+---------------+-----------+---------------+--------------------------+------------------------+\n",
            "\n"
          ]
        }
      ]
    },
    {
      "cell_type": "code",
      "source": [
        "data.select('satisfaction').distinct().collect()"
      ],
      "metadata": {
        "colab": {
          "base_uri": "https://localhost:8080/"
        },
        "id": "jnJpG9ZSFgbu",
        "outputId": "293bdade-0527-4020-f955-3d5ae5cd600b"
      },
      "execution_count": null,
      "outputs": [
        {
          "output_type": "execute_result",
          "data": {
            "text/plain": [
              "[Row(satisfaction='dissatisfied'), Row(satisfaction='satisfied')]"
            ]
          },
          "metadata": {},
          "execution_count": 86
        }
      ]
    },
    {
      "cell_type": "markdown",
      "source": [
        "Index string-typed columns by doing indexation for each column in a pipeline"
      ],
      "metadata": {
        "id": "0T0nWzKzWC2M"
      }
    },
    {
      "cell_type": "code",
      "source": [
        "indexers = [StringIndexer(inputCol=column, outputCol=column+\"_index\").fit(data) for column in list(set(['satisfaction', 'Customer Type', 'Type of Travel','Class'])) ]\n",
        "indexers_pipeline = Pipeline(stages=indexers)\n",
        "#data_indexed = pipeline.fit(data).transform(data)\n",
        "#data_indexed.show(5)\n",
        "#indexers = [StringIndexer(inputCol=column, outputCol=column+\"_index\").fit(data) for column in list(set(data.columns)-set(['Age', 'Flight Distance','Seat comfort','Departure/Arrival time convenient','Food and drink','Gate location','Inflight wifi service','Inflight entertainment','Online support','Ease of Online booking','On-board service','Leg room service','Baggage handling','Checkin service','Cleanliness','Online boarding','Departure Delay in Minutes','Arrival Delay in Minutes'])) ]\n",
        "#indexers_pipeline = Pipeline(stages=indexers)\n",
        "#data_indexed = pipeline.fit(data).transform(data)\n",
        "#data_indexed.show(5)"
      ],
      "metadata": {
        "id": "P_8aJMf0GiCC"
      },
      "execution_count": null,
      "outputs": []
    },
    {
      "cell_type": "markdown",
      "source": [
        "Assemble feature columns in a vector"
      ],
      "metadata": {
        "id": "mihqDOgUWQ1Z"
      }
    },
    {
      "cell_type": "code",
      "source": [
        "input_features = ['Age','satisfaction_index', 'Customer Type_index', 'Type of Travel_index','Class_index', 'Flight Distance','Seat comfort','Departure/Arrival time convenient','Food and drink','Gate location','Inflight wifi service','Inflight entertainment','Online support','Ease of Online booking','On-board service','Leg room service','Baggage handling','Checkin service','Cleanliness','Online boarding','Departure Delay in Minutes','Arrival Delay in Minutes']\n",
        "vectorAssembler = VectorAssembler(inputCols=input_features, outputCol=\"features\")"
      ],
      "metadata": {
        "id": "bd4BpJ3szG05"
      },
      "execution_count": null,
      "outputs": []
    },
    {
      "cell_type": "markdown",
      "source": [
        "Normalize features"
      ],
      "metadata": {
        "id": "n9F5NOmzWR8W"
      }
    },
    {
      "cell_type": "code",
      "source": [
        "scaler = StandardScaler(inputCol=\"features\", outputCol=\"scaledFeatures\")"
      ],
      "metadata": {
        "id": "TJ3IwEvhQdVB"
      },
      "execution_count": null,
      "outputs": []
    },
    {
      "cell_type": "markdown",
      "source": [
        "Define the logistic regression classifier"
      ],
      "metadata": {
        "id": "naizZ9dIWVbj"
      }
    },
    {
      "cell_type": "code",
      "source": [
        "classifier = LogisticRegression(featuresCol=\"scaledFeatures\", labelCol=\"satisfaction_index\")"
      ],
      "metadata": {
        "id": "8srrgh06P2yG"
      },
      "execution_count": null,
      "outputs": []
    },
    {
      "cell_type": "markdown",
      "source": [
        "Define the pipeline containing all the steps"
      ],
      "metadata": {
        "id": "fKGezHnwWaTo"
      }
    },
    {
      "cell_type": "code",
      "source": [
        "pipeline = Pipeline(stages=[indexers_pipeline, vectorAssembler, scaler, classifier])"
      ],
      "metadata": {
        "id": "nvpC9ZMtQbgu"
      },
      "execution_count": null,
      "outputs": []
    },
    {
      "cell_type": "markdown",
      "source": [
        "Split data into train and test sets"
      ],
      "metadata": {
        "id": "iiHh5uxXWezv"
      }
    },
    {
      "cell_type": "code",
      "source": [
        "(trainingData, testData) = data.randomSplit([0.7, 0.3], seed=42)"
      ],
      "metadata": {
        "id": "ns95KzS6QlGI"
      },
      "execution_count": null,
      "outputs": []
    },
    {
      "cell_type": "markdown",
      "source": [
        "Train the model"
      ],
      "metadata": {
        "id": "Ms5X9oh8Wh9L"
      }
    },
    {
      "cell_type": "code",
      "source": [
        "model = pipeline.fit(trainingData)"
      ],
      "metadata": {
        "id": "SPKrRREbQyBs"
      },
      "execution_count": null,
      "outputs": []
    },
    {
      "cell_type": "markdown",
      "source": [
        "Make predictions for the test set"
      ],
      "metadata": {
        "id": "NJJauA3QWkIo"
      }
    },
    {
      "cell_type": "code",
      "source": [
        "predictions = model.transform(testData)"
      ],
      "metadata": {
        "id": "sXfb8JnKRCmY"
      },
      "execution_count": null,
      "outputs": []
    },
    {
      "cell_type": "markdown",
      "source": [
        "Evaluate the accuracy of predictions"
      ],
      "metadata": {
        "id": "ho4ToyceWnK6"
      }
    },
    {
      "cell_type": "code",
      "source": [
        "evaluator = MulticlassClassificationEvaluator(labelCol=\"satisfaction_index\", predictionCol=\"prediction\", metricName=\"accuracy\")\n",
        "accuracy = evaluator.evaluate(predictions)\n",
        "print(\"Accuracy =\", accuracy)"
      ],
      "metadata": {
        "colab": {
          "base_uri": "https://localhost:8080/"
        },
        "id": "Ve2mfD-wRD8s",
        "outputId": "c6dc30e5-0b49-47ab-df51-313241e095d9"
      },
      "execution_count": null,
      "outputs": [
        {
          "output_type": "stream",
          "name": "stdout",
          "text": [
            "Accuracy = 1.0\n"
          ]
        }
      ]
    },
    {
      "cell_type": "markdown",
      "source": [
        "Stop the pyspark session"
      ],
      "metadata": {
        "id": "NK_OPB3YWrFA"
      }
    },
    {
      "cell_type": "code",
      "source": [
        "session.stop()"
      ],
      "metadata": {
        "id": "c2s1q4a4m4K2"
      },
      "execution_count": null,
      "outputs": []
    },
    {
      "cell_type": "code",
      "source": [],
      "metadata": {
        "id": "uAQ92InUVHj4"
      },
      "execution_count": null,
      "outputs": []
    }
  ]
}